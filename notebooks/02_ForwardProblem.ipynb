{
  "nbformat": 4,
  "nbformat_minor": 5,
  "metadata": {
    "kernelspec": {
      "display_name": "Python 3",
      "language": "python",
      "name": "python3"
    },
    "language_info": {
      "codemirror_mode": {
        "name": "ipython",
        "version": 3
      },
      "file_extension": ".py",
      "mimetype": "text/x-python",
      "name": "python",
      "nbconvert_exporter": "python",
      "pygments_lexer": "ipython3",
      "version": "3.8.3"
    },
    "colab": {
      "name": "02_ForwardProblem.ipynb",
      "provenance": [],
      "include_colab_link": true
    }
  },
  "cells": [
    {
      "cell_type": "markdown",
      "metadata": {
        "id": "view-in-github",
        "colab_type": "text"
      },
      "source": [
        "<a href=\"https://colab.research.google.com/github/bearylogical/nn_tensiometry/blob/master/notebooks/02_ForwardProblem.ipynb\" target=\"_parent\"><img src=\"https://colab.research.google.com/assets/colab-badge.svg\" alt=\"Open In Colab\"/></a>"
      ]
    },
    {
      "cell_type": "markdown",
      "metadata": {
        "id": "27324f8e"
      },
      "source": [
        "# Solving the forward problem using PiNNs\n",
        "\n",
        "## Load Libraries"
      ],
      "id": "27324f8e"
    },
    {
      "cell_type": "code",
      "metadata": {
        "id": "FiwEmLRanPfm",
        "outputId": "42b2c378-e93e-4cf8-f41e-af5230c14e0f",
        "colab": {
          "base_uri": "https://localhost:8080/"
        }
      },
      "source": [
        "!pip install deepxde"
      ],
      "id": "FiwEmLRanPfm",
      "execution_count": 2,
      "outputs": [
        {
          "output_type": "stream",
          "text": [
            "Collecting deepxde\n",
            "\u001b[?25l  Downloading https://files.pythonhosted.org/packages/e0/b3/0baabc45ab6fc309c857d70bc7ae9584616fa18fa94e0caf7f3ff6ea454d/DeepXDE-0.11.1-py3-none-any.whl (79kB)\n",
            "\r\u001b[K     |████                            | 10kB 19.9MB/s eta 0:00:01\r\u001b[K     |████████▏                       | 20kB 28.3MB/s eta 0:00:01\r\u001b[K     |████████████▎                   | 30kB 18.1MB/s eta 0:00:01\r\u001b[K     |████████████████▍               | 40kB 16.8MB/s eta 0:00:01\r\u001b[K     |████████████████████▌           | 51kB 15.1MB/s eta 0:00:01\r\u001b[K     |████████████████████████▋       | 61kB 14.0MB/s eta 0:00:01\r\u001b[K     |████████████████████████████▊   | 71kB 13.8MB/s eta 0:00:01\r\u001b[K     |████████████████████████████████| 81kB 5.7MB/s \n",
            "\u001b[?25hCollecting salib\n",
            "\u001b[?25l  Downloading https://files.pythonhosted.org/packages/b0/47/edc4722bc2b7b980079dcd8f4a58cc212a0f042fdd79e6bf603a338ebdb7/SALib-1.3.13.tar.gz (856kB)\n",
            "\u001b[K     |████████████████████████████████| 860kB 17.4MB/s \n",
            "\u001b[?25hRequirement already satisfied: tensorflow>=2.2.0 in /usr/local/lib/python3.7/dist-packages (from deepxde) (2.5.0)\n",
            "Requirement already satisfied: scipy in /usr/local/lib/python3.7/dist-packages (from deepxde) (1.4.1)\n",
            "Requirement already satisfied: scikit-learn in /usr/local/lib/python3.7/dist-packages (from deepxde) (0.22.2.post1)\n",
            "Requirement already satisfied: matplotlib in /usr/local/lib/python3.7/dist-packages (from deepxde) (3.2.2)\n",
            "Requirement already satisfied: numpy in /usr/local/lib/python3.7/dist-packages (from deepxde) (1.19.5)\n",
            "Requirement already satisfied: pandas in /usr/local/lib/python3.7/dist-packages (from salib->deepxde) (1.1.5)\n",
            "Requirement already satisfied: google-pasta~=0.2 in /usr/local/lib/python3.7/dist-packages (from tensorflow>=2.2.0->deepxde) (0.2.0)\n",
            "Requirement already satisfied: termcolor~=1.1.0 in /usr/local/lib/python3.7/dist-packages (from tensorflow>=2.2.0->deepxde) (1.1.0)\n",
            "Requirement already satisfied: wheel~=0.35 in /usr/local/lib/python3.7/dist-packages (from tensorflow>=2.2.0->deepxde) (0.36.2)\n",
            "Requirement already satisfied: tensorboard~=2.5 in /usr/local/lib/python3.7/dist-packages (from tensorflow>=2.2.0->deepxde) (2.5.0)\n",
            "Requirement already satisfied: gast==0.4.0 in /usr/local/lib/python3.7/dist-packages (from tensorflow>=2.2.0->deepxde) (0.4.0)\n",
            "Requirement already satisfied: keras-preprocessing~=1.1.2 in /usr/local/lib/python3.7/dist-packages (from tensorflow>=2.2.0->deepxde) (1.1.2)\n",
            "Requirement already satisfied: opt-einsum~=3.3.0 in /usr/local/lib/python3.7/dist-packages (from tensorflow>=2.2.0->deepxde) (3.3.0)\n",
            "Requirement already satisfied: astunparse~=1.6.3 in /usr/local/lib/python3.7/dist-packages (from tensorflow>=2.2.0->deepxde) (1.6.3)\n",
            "Requirement already satisfied: grpcio~=1.34.0 in /usr/local/lib/python3.7/dist-packages (from tensorflow>=2.2.0->deepxde) (1.34.1)\n",
            "Requirement already satisfied: h5py~=3.1.0 in /usr/local/lib/python3.7/dist-packages (from tensorflow>=2.2.0->deepxde) (3.1.0)\n",
            "Requirement already satisfied: wrapt~=1.12.1 in /usr/local/lib/python3.7/dist-packages (from tensorflow>=2.2.0->deepxde) (1.12.1)\n",
            "Requirement already satisfied: six~=1.15.0 in /usr/local/lib/python3.7/dist-packages (from tensorflow>=2.2.0->deepxde) (1.15.0)\n",
            "Requirement already satisfied: absl-py~=0.10 in /usr/local/lib/python3.7/dist-packages (from tensorflow>=2.2.0->deepxde) (0.12.0)\n",
            "Requirement already satisfied: typing-extensions~=3.7.4 in /usr/local/lib/python3.7/dist-packages (from tensorflow>=2.2.0->deepxde) (3.7.4.3)\n",
            "Requirement already satisfied: protobuf>=3.9.2 in /usr/local/lib/python3.7/dist-packages (from tensorflow>=2.2.0->deepxde) (3.12.4)\n",
            "Requirement already satisfied: tensorflow-estimator<2.6.0,>=2.5.0rc0 in /usr/local/lib/python3.7/dist-packages (from tensorflow>=2.2.0->deepxde) (2.5.0)\n",
            "Requirement already satisfied: keras-nightly~=2.5.0.dev in /usr/local/lib/python3.7/dist-packages (from tensorflow>=2.2.0->deepxde) (2.5.0.dev2021032900)\n",
            "Requirement already satisfied: flatbuffers~=1.12.0 in /usr/local/lib/python3.7/dist-packages (from tensorflow>=2.2.0->deepxde) (1.12)\n",
            "Requirement already satisfied: joblib>=0.11 in /usr/local/lib/python3.7/dist-packages (from scikit-learn->deepxde) (1.0.1)\n",
            "Requirement already satisfied: python-dateutil>=2.1 in /usr/local/lib/python3.7/dist-packages (from matplotlib->deepxde) (2.8.1)\n",
            "Requirement already satisfied: kiwisolver>=1.0.1 in /usr/local/lib/python3.7/dist-packages (from matplotlib->deepxde) (1.3.1)\n",
            "Requirement already satisfied: pyparsing!=2.0.4,!=2.1.2,!=2.1.6,>=2.0.1 in /usr/local/lib/python3.7/dist-packages (from matplotlib->deepxde) (2.4.7)\n",
            "Requirement already satisfied: cycler>=0.10 in /usr/local/lib/python3.7/dist-packages (from matplotlib->deepxde) (0.10.0)\n",
            "Requirement already satisfied: pytz>=2017.2 in /usr/local/lib/python3.7/dist-packages (from pandas->salib->deepxde) (2018.9)\n",
            "Requirement already satisfied: google-auth<2,>=1.6.3 in /usr/local/lib/python3.7/dist-packages (from tensorboard~=2.5->tensorflow>=2.2.0->deepxde) (1.30.0)\n",
            "Requirement already satisfied: werkzeug>=0.11.15 in /usr/local/lib/python3.7/dist-packages (from tensorboard~=2.5->tensorflow>=2.2.0->deepxde) (1.0.1)\n",
            "Requirement already satisfied: google-auth-oauthlib<0.5,>=0.4.1 in /usr/local/lib/python3.7/dist-packages (from tensorboard~=2.5->tensorflow>=2.2.0->deepxde) (0.4.4)\n",
            "Requirement already satisfied: requests<3,>=2.21.0 in /usr/local/lib/python3.7/dist-packages (from tensorboard~=2.5->tensorflow>=2.2.0->deepxde) (2.23.0)\n",
            "Requirement already satisfied: tensorboard-plugin-wit>=1.6.0 in /usr/local/lib/python3.7/dist-packages (from tensorboard~=2.5->tensorflow>=2.2.0->deepxde) (1.8.0)\n",
            "Requirement already satisfied: setuptools>=41.0.0 in /usr/local/lib/python3.7/dist-packages (from tensorboard~=2.5->tensorflow>=2.2.0->deepxde) (56.1.0)\n",
            "Requirement already satisfied: tensorboard-data-server<0.7.0,>=0.6.0 in /usr/local/lib/python3.7/dist-packages (from tensorboard~=2.5->tensorflow>=2.2.0->deepxde) (0.6.1)\n",
            "Requirement already satisfied: markdown>=2.6.8 in /usr/local/lib/python3.7/dist-packages (from tensorboard~=2.5->tensorflow>=2.2.0->deepxde) (3.3.4)\n",
            "Requirement already satisfied: cached-property; python_version < \"3.8\" in /usr/local/lib/python3.7/dist-packages (from h5py~=3.1.0->tensorflow>=2.2.0->deepxde) (1.5.2)\n",
            "Requirement already satisfied: rsa<5,>=3.1.4; python_version >= \"3.6\" in /usr/local/lib/python3.7/dist-packages (from google-auth<2,>=1.6.3->tensorboard~=2.5->tensorflow>=2.2.0->deepxde) (4.7.2)\n",
            "Requirement already satisfied: cachetools<5.0,>=2.0.0 in /usr/local/lib/python3.7/dist-packages (from google-auth<2,>=1.6.3->tensorboard~=2.5->tensorflow>=2.2.0->deepxde) (4.2.2)\n",
            "Requirement already satisfied: pyasn1-modules>=0.2.1 in /usr/local/lib/python3.7/dist-packages (from google-auth<2,>=1.6.3->tensorboard~=2.5->tensorflow>=2.2.0->deepxde) (0.2.8)\n",
            "Requirement already satisfied: requests-oauthlib>=0.7.0 in /usr/local/lib/python3.7/dist-packages (from google-auth-oauthlib<0.5,>=0.4.1->tensorboard~=2.5->tensorflow>=2.2.0->deepxde) (1.3.0)\n",
            "Requirement already satisfied: urllib3!=1.25.0,!=1.25.1,<1.26,>=1.21.1 in /usr/local/lib/python3.7/dist-packages (from requests<3,>=2.21.0->tensorboard~=2.5->tensorflow>=2.2.0->deepxde) (1.24.3)\n",
            "Requirement already satisfied: certifi>=2017.4.17 in /usr/local/lib/python3.7/dist-packages (from requests<3,>=2.21.0->tensorboard~=2.5->tensorflow>=2.2.0->deepxde) (2020.12.5)\n",
            "Requirement already satisfied: idna<3,>=2.5 in /usr/local/lib/python3.7/dist-packages (from requests<3,>=2.21.0->tensorboard~=2.5->tensorflow>=2.2.0->deepxde) (2.10)\n",
            "Requirement already satisfied: chardet<4,>=3.0.2 in /usr/local/lib/python3.7/dist-packages (from requests<3,>=2.21.0->tensorboard~=2.5->tensorflow>=2.2.0->deepxde) (3.0.4)\n",
            "Requirement already satisfied: importlib-metadata; python_version < \"3.8\" in /usr/local/lib/python3.7/dist-packages (from markdown>=2.6.8->tensorboard~=2.5->tensorflow>=2.2.0->deepxde) (4.0.1)\n",
            "Requirement already satisfied: pyasn1>=0.1.3 in /usr/local/lib/python3.7/dist-packages (from rsa<5,>=3.1.4; python_version >= \"3.6\"->google-auth<2,>=1.6.3->tensorboard~=2.5->tensorflow>=2.2.0->deepxde) (0.4.8)\n",
            "Requirement already satisfied: oauthlib>=3.0.0 in /usr/local/lib/python3.7/dist-packages (from requests-oauthlib>=0.7.0->google-auth-oauthlib<0.5,>=0.4.1->tensorboard~=2.5->tensorflow>=2.2.0->deepxde) (3.1.0)\n",
            "Requirement already satisfied: zipp>=0.5 in /usr/local/lib/python3.7/dist-packages (from importlib-metadata; python_version < \"3.8\"->markdown>=2.6.8->tensorboard~=2.5->tensorflow>=2.2.0->deepxde) (3.4.1)\n",
            "Building wheels for collected packages: salib\n",
            "  Building wheel for salib (setup.py) ... \u001b[?25l\u001b[?25hdone\n",
            "  Created wheel for salib: filename=SALib-1.3.13-py2.py3-none-any.whl size=729580 sha256=e539252b14da7bb672e361319d66c1f603361bf7905999726174921a759d6e79\n",
            "  Stored in directory: /root/.cache/pip/wheels/d7/c3/9b/c5219d4848c1c4d308b41672c0a8c5f2a95c94ed000d6bb5d9\n",
            "Successfully built salib\n",
            "Installing collected packages: salib, deepxde\n",
            "Successfully installed deepxde-0.11.1 salib-1.3.13\n"
          ],
          "name": "stdout"
        }
      ]
    },
    {
      "cell_type": "code",
      "metadata": {
        "id": "2442cd18",
        "outputId": "a77c2e67-cc4f-4da6-fd98-e9d7fac3bb01",
        "colab": {
          "base_uri": "https://localhost:8080/",
          "height": 133
        }
      },
      "source": [
        "import deepxde as ddea\n",
        "from deepxde.backend import tf\n",
        "import numpy as np\n",
        "from deepxde.callbacks import EarlyStopping\n",
        "import matplotlib.pyplot as plt"
      ],
      "id": "2442cd18",
      "execution_count": 1,
      "outputs": [
        {
          "output_type": "error",
          "ename": "SyntaxError",
          "evalue": "ignored",
          "traceback": [
            "\u001b[0;36m  File \u001b[0;32m\"<ipython-input-1-6b8f720c7ab6>\"\u001b[0;36m, line \u001b[0;32m2\u001b[0m\n\u001b[0;31m    from deepxde.backend import tf  a\u001b[0m\n\u001b[0m                                    ^\u001b[0m\n\u001b[0;31mSyntaxError\u001b[0m\u001b[0;31m:\u001b[0m invalid syntax\n"
          ]
        }
      ]
    },
    {
      "cell_type": "markdown",
      "metadata": {
        "id": "aa552132"
      },
      "source": [
        "## Pendant Drop Equations\n",
        "\n",
        "We use the young laplace formula and solve for the curvatures\n",
        "\n",
        "$\n",
        "\\begin{align}\n",
        "& \\sigma(\\kappa_s+\\kappa_\\psi) = p_L - \\Delta \\rho g z \\\\\n",
        "\\kappa_s = \\frac{\\text{d}\\psi}{\\text{d}{s}} = -\\frac{\\frac{d^2r}{ds^2}}{\\sqrt{1-(dr/ds)^2}}\\hspace{1em} & \\kappa_{\\phi} = \\frac{\\text{sin}(\\psi)}{r}  = \\frac{1}{r}\\frac{dz}{ds}\\hspace{1em} & \\psi = \\text{tan}^{-1} \\left( \\frac{dz}{dr} \\right) \\\\\n",
        "\\end{align}\n",
        "$\n",
        "\n",
        "With the following boundary conditions\n",
        "$\\begin{align} @s=0, z=0, r=0, \\psi = 0  ;  @s=L, r=r_{needle};   \\end{align} $\n",
        "\n",
        "\n",
        "\n",
        "## Constants"
      ],
      "id": "aa552132"
    },
    {
      "cell_type": "code",
      "metadata": {
        "id": "2ca3f387"
      },
      "source": [
        "sigma = 72.0;        # surface tension [mN/m]\n",
        "grav = 1.0;     # gravitational acceleration [mm/s^2]\n",
        "rneedle = 1.0;       # radius of the needle [mm]\n",
        "deltarho = 1.0;   # density difference [10^6 kg/m^3]\n",
        "p_l = 70.2799663375; # laplace pressure\n",
        "s = 1.9893"
      ],
      "id": "2ca3f387",
      "execution_count": null,
      "outputs": []
    },
    {
      "cell_type": "code",
      "metadata": {
        "id": "03cf4027",
        "outputId": "19637edf-1794-4e74-c8d3-754f24856767"
      },
      "source": [
        "# convention, r = 0 , z=1\n",
        "def pde(x,y):\n",
        "    \n",
        "    r = y[:,0:1]\n",
        "    z = y[:,1:2]\n",
        "    \n",
        "    dr_ds = dde.grad.jacobian(r, x)\n",
        "    dr_dss = dde.grad.hessian(r, x)\n",
        "    \n",
        "    dz_ds = dde.grad.jacobian(z, x)\n",
        "    dz_dss = dde.grad.hessian(z, x)\n",
        "    \n",
        "    kappa_s = - tf.math.divide_no_nan(dr_dss, tf.math.sqrt(1.0-tf.math.square(dr_ds)))\n",
        "    kappa_phi = tf.math.divide_no_nan(1.0,r) * dz_ds\n",
        "    eqn_1 = dr_ds - 1/s * tf.math.cos(phi)\n",
        "    eqn_2 = dz_ds - 1/s * tf.math.sin(phi)\n",
        "    eqn_3 = p_l - z - sigma(s * kappa_s + kappa_phi) \n",
        "    \n",
        "    psi = tf.math.atan2(dz_ds, dr_ds)\n",
        "    \n",
        "    lhs = sigma * (kappa_s + kappa_phi)\n",
        "    rhs = tf.constant(p_l) - tf.constant(deltarho * grav) * z\n",
        "    \n",
        "    return [eqn_1, eqn_2, eqn_3]\n",
        "\n",
        "def func(inputs, outputs, X):\n",
        "    r = outputs[:,0:1]\n",
        "    z = outputs[:,1:2]\n",
        "    # Compute theta from X using numpy or tensorflow. You need to be careful here\n",
        "    dr_ds = dde.grad.jacobian(r, inputs)\n",
        "    dz_ds = dde.grad.jacobian(z, inputs)\n",
        "    # Compute dphi/dx as you do for the PDE\n",
        "    return tf.math.atan2(dz_ds,dr_ds) \n",
        "\n",
        "geom = dde.geometry.Interval(0, 1)\n",
        "\n",
        "def bot_boundary(x, on_boundary):\n",
        "    return on_boundary and np.isclose(x[0], 0)\n",
        "\n",
        "def top_boundary(x, on_boundary):\n",
        "    return on_boundary and np.isclose(x[0], 1)\n",
        "\n",
        "bot_bc_r = dde.DirichletBC(geom, lambda x: 0, bot_boundary, component = 0)  # r(0) = 0\n",
        "bot_bc_z = dde.DirichletBC(geom, lambda x: 0, bot_boundary, component = 1) # z(0) = 0\n",
        "top_bc_r = dde.DirichletBC(geom, lambda x: rneedle, top_boundary, component=0) # r(L) = r_needle\n",
        "apex_bc = dde.OperatorBC(geom, func, bot_boundary)\n",
        "\n",
        "\n",
        "data = dde.data.PDE(\n",
        "    geom,\n",
        "    pde,\n",
        "    [bot_bc_r,bot_bc_z,top_bc_r,apex_bc],\n",
        "    num_domain=1000,\n",
        "    num_boundary=50,\n",
        "    num_test=3000\n",
        ")\n",
        "\n",
        "layer_size = [1] + [30] * 2 + [2]\n",
        "activation = \"tanh\"\n",
        "initializer = \"Glorot uniform\"\n",
        "net = dde.maps.FNN(layer_size, activation, initializer, regularization='l1')\n",
        "# net.apply_output_transform(lambda x, y: y*2)\n",
        "\n",
        "model = dde.Model(data, net)\n",
        "\n",
        "model.compile(\"adam\", lr=0.001,loss_weights = [1e-3, 1, 1 , 1,1])\n",
        " \n",
        "early_stopping = EarlyStopping(min_delta=1e-8, patience=40000)\n",
        "losshistory, train_state =   model.train(epochs=5000, display_every=1000, callbacks=[early_stopping],\n",
        "                disregard_previous_best=True)"
      ],
      "id": "03cf4027",
      "execution_count": null,
      "outputs": [
        {
          "output_type": "stream",
          "text": [
            "Compiling model...\n",
            "Building feed-forward neural network...\n",
            "'build' took 0.054259 s\n",
            "\n"
          ],
          "name": "stdout"
        },
        {
          "output_type": "stream",
          "text": [
            "/home/syamil/anaconda3/lib/python3.8/site-packages/tensorflow/python/keras/legacy_tf_layers/core.py:171: UserWarning: `tf.layers.dense` is deprecated and will be removed in a future version. Please use `tf.keras.layers.Dense` instead.\n",
            "  warnings.warn('`tf.layers.dense` is deprecated and '\n",
            "/home/syamil/anaconda3/lib/python3.8/site-packages/tensorflow/python/keras/engine/base_layer_v1.py:1719: UserWarning: `layer.apply` is deprecated and will be removed in a future version. Please use `layer.__call__` method instead.\n",
            "  warnings.warn('`layer.apply` is deprecated and '\n"
          ],
          "name": "stderr"
        },
        {
          "output_type": "stream",
          "text": [
            "'compile' took 2.938231 s\n",
            "\n",
            "Initializing variables...\n",
            "Training model...\n",
            "\n",
            "Step      Train loss                                            Test loss                                             Test metric\n",
            "0         [6.31e+03, 0.00e+00, 0.00e+00, 6.00e-01, 8.82e-01]    [4.79e+04, 0.00e+00, 0.00e+00, 0.00e+00, 0.00e+00]    []  \n",
            "1000      [5.78e-01, 6.75e-03, 2.14e-04, 2.99e-01, 8.57e-02]    [5.30e-01, 0.00e+00, 0.00e+00, 0.00e+00, 0.00e+00]    []  \n",
            "2000      [8.96e-02, 7.21e-03, 4.88e-05, 1.71e-01, 2.27e-02]    [7.89e-02, 0.00e+00, 0.00e+00, 0.00e+00, 0.00e+00]    []  \n",
            "3000      [3.67e-02, 7.35e-03, 1.16e-06, 7.85e-02, 1.01e-02]    [3.44e-02, 0.00e+00, 0.00e+00, 0.00e+00, 0.00e+00]    []  \n",
            "4000      [2.84e-02, 7.50e-03, 5.88e-07, 2.96e-02, 8.35e-03]    [2.64e-02, 0.00e+00, 0.00e+00, 0.00e+00, 0.00e+00]    []  \n",
            "5000      [2.33e-02, 7.66e-03, 9.21e-07, 9.26e-03, 6.79e-03]    [2.16e-02, 0.00e+00, 0.00e+00, 0.00e+00, 0.00e+00]    []  \n",
            "\n",
            "Best model at step 5000:\n",
            "  train loss: 4.70e-02\n",
            "  test loss: 2.16e-02\n",
            "  test metric: []\n",
            "\n",
            "'train' took 79.563858 s\n",
            "\n"
          ],
          "name": "stdout"
        }
      ]
    },
    {
      "cell_type": "code",
      "metadata": {
        "id": "83bddee6"
      },
      "source": [
        "X_train, y_train, X_test, y_test, best_y, best_ystd = train_state.packed_data()"
      ],
      "id": "83bddee6",
      "execution_count": null,
      "outputs": []
    },
    {
      "cell_type": "code",
      "metadata": {
        "id": "fa128376",
        "outputId": "112b36f4-52c0-489e-c105-8bd163727e00"
      },
      "source": [
        "fig, ax = plt.subplots()\n",
        "ax.plot(best_y.T[0],best_y.T[1])\n",
        "ax.set_xlabel('r')\n",
        "ax.set_ylabel('z', rotation=0)"
      ],
      "id": "fa128376",
      "execution_count": null,
      "outputs": [
        {
          "output_type": "execute_result",
          "data": {
            "text/plain": [
              "Text(0, 0.5, 'z')"
            ]
          },
          "metadata": {
            "tags": []
          },
          "execution_count": 212
        },
        {
          "output_type": "display_data",
          "data": {
            "image/png": "[encoded data removed]",
            "text/plain": [
              "<Figure size 432x288 with 1 Axes>"
            ]
          },
          "metadata": {
            "tags": [],
            "needs_background": "light"
          }
        }
      ]
    },
    {
      "cell_type": "code",
      "metadata": {
        "id": "977f3098"
      },
      "source": [
        ""
      ],
      "id": "977f3098",
      "execution_count": null,
      "outputs": []
    }
  ]
}