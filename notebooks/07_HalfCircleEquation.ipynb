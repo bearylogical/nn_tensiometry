{
 "cells": [
  {
   "cell_type": "code",
   "execution_count": 1,
   "id": "c9e074f5",
   "metadata": {},
   "outputs": [
    {
     "name": "stdout",
     "output_type": "stream",
     "text": [
      "Using TensorFlow 2 backend.\n",
      "\n",
      "WARNING:tensorflow:From /home/syamil/anaconda3/lib/python3.8/site-packages/tensorflow/python/compat/v2_compat.py:96: disable_resource_variables (from tensorflow.python.ops.variable_scope) is deprecated and will be removed in a future version.\n",
      "Instructions for updating:\n",
      "non-resource variables are not supported in the long term\n"
     ]
    }
   ],
   "source": [
    "import deepxde as dde\n",
    "from deepxde.backend import tf\n",
    "import numpy as np\n",
    "from deepxde.callbacks import EarlyStopping\n",
    "import matplotlib.pyplot as plt"
   ]
  },
  {
   "cell_type": "markdown",
   "id": "c00631b5",
   "metadata": {},
   "source": [
    "## Half Circle Equation\n",
    "\n",
    "Length Domain : $[0, \\pi r]$\n",
    "\n",
    "From equation of circle\n",
    "$(x-u)^2+(y-v)^2=a^2$\n",
    "\n",
    "Implicit differentiaion:\n",
    "$x'(x-u)+y'(y-v)=0$\n",
    "\n",
    "IC: $x(0)=u+a, \\quad y(0)=v$\n",
    "\n",
    "PDE: $x'=-y+v, \\quad y' = x-u$"
   ]
  },
  {
   "cell_type": "code",
   "execution_count": 2,
   "id": "17a3cf52",
   "metadata": {},
   "outputs": [],
   "source": [
    "# constants\n",
    "r = 1\n"
   ]
  },
  {
   "cell_type": "code",
   "execution_count": 3,
   "id": "a90d3903",
   "metadata": {},
   "outputs": [
    {
     "name": "stdout",
     "output_type": "stream",
     "text": [
      "Compiling model...\n",
      "Building feed-forward neural network...\n",
      "'build' took 0.079044 s\n",
      "\n"
     ]
    },
    {
     "name": "stderr",
     "output_type": "stream",
     "text": [
      "/home/syamil/anaconda3/lib/python3.8/site-packages/tensorflow/python/keras/legacy_tf_layers/core.py:171: UserWarning: `tf.layers.dense` is deprecated and will be removed in a future version. Please use `tf.keras.layers.Dense` instead.\n",
      "  warnings.warn('`tf.layers.dense` is deprecated and '\n",
      "/home/syamil/anaconda3/lib/python3.8/site-packages/tensorflow/python/keras/engine/base_layer_v1.py:1719: UserWarning: `layer.apply` is deprecated and will be removed in a future version. Please use `layer.__call__` method instead.\n",
      "  warnings.warn('`layer.apply` is deprecated and '\n"
     ]
    },
    {
     "name": "stdout",
     "output_type": "stream",
     "text": [
      "'compile' took 2.532939 s\n",
      "\n",
      "Initializing variables...\n",
      "Training model...\n",
      "\n",
      "Step      Train loss                                                      Test loss                                                       Test metric\n",
      "0         [1.65e-01, 4.36e-01, 0.00e+00, 1.00e+00, 4.69e-01, 2.91e-01]    [1.65e-01, 4.36e-01, 0.00e+00, 0.00e+00, 0.00e+00, 0.00e+00]    []  \n",
      "1000      [5.28e-04, 3.55e-03, 2.62e-05, 1.00e-07, 2.97e-05, 4.58e-05]    [5.28e-04, 3.55e-03, 0.00e+00, 0.00e+00, 0.00e+00, 0.00e+00]    []  \n",
      "2000      [1.72e-04, 1.26e-04, 1.17e-07, 7.78e-11, 2.45e-07, 1.53e-07]    [1.72e-04, 1.26e-04, 0.00e+00, 0.00e+00, 0.00e+00, 0.00e+00]    []  \n",
      "3000      [4.77e-05, 1.02e-04, 7.39e-08, 4.41e-09, 1.29e-07, 1.03e-07]    [4.77e-05, 1.02e-04, 0.00e+00, 0.00e+00, 0.00e+00, 0.00e+00]    []  \n",
      "4000      [2.82e-05, 7.53e-05, 3.25e-08, 1.22e-07, 9.48e-06, 8.40e-06]    [2.82e-05, 7.53e-05, 0.00e+00, 0.00e+00, 0.00e+00, 0.00e+00]    []  \n",
      "5000      [1.23e-05, 5.24e-05, 3.04e-08, 7.52e-10, 9.07e-08, 1.73e-09]    [1.23e-05, 5.24e-05, 0.00e+00, 0.00e+00, 0.00e+00, 0.00e+00]    []  \n",
      "\n",
      "Best model at step 5000:\n",
      "  train loss: 6.49e-05\n",
      "  test loss: 6.48e-05\n",
      "  test metric: []\n",
      "\n",
      "'train' took 72.522312 s\n",
      "\n"
     ]
    }
   ],
   "source": [
    "def pde(s,y):\n",
    "    \n",
    "    x_s = y[:,0:1] \n",
    "    dx_ds = dde.grad.jacobian(x_s, s)\n",
    "    y_s = y[:,1:2]\n",
    "    dy_ds = dde.grad.jacobian(y_s, s)\n",
    "    \n",
    "    return dx_ds + y_s, dy_ds - x_s\n",
    "\n",
    "geom = dde.geometry.Interval(0, np.pi)\n",
    "\n",
    "def start_bound(x, on_boundary):\n",
    "    return on_boundary and np.isclose(x[0], 0)\n",
    "\n",
    "def end_bound(x, on_boundary):\n",
    "    return on_boundary and np.isclose(x[0], np.pi)\n",
    "\n",
    "def func(s):\n",
    "    return np.cos(s), np.sin(s)\n",
    "\n",
    "x_start = dde.DirichletBC(geom, lambda x: 0, start_bound, component=0)\n",
    "y_start = dde.DirichletBC(geom, lambda x: -1, start_bound, component=1)\n",
    "x_end = dde.DirichletBC(geom, lambda x:  0, end_bound, component=0)\n",
    "y_end = dde.DirichletBC(geom, lambda x: 1, end_bound, component=1)\n",
    "\n",
    "data = dde.data.PDE(\n",
    "    geom,\n",
    "    pde,\n",
    "    [x_start, y_start, x_end, y_end],\n",
    "    num_domain=100,\n",
    "    num_boundary=30,\n",
    "    train_distribution='uniform'\n",
    ")\n",
    "\n",
    "layer_size = [1] + [20] * 3 + [2]\n",
    "activation = \"tanh\"\n",
    "initializer = \"Glorot uniform\"\n",
    "net = dde.maps.FNN(layer_size, activation, initializer)\n",
    "# net.outputs_modify(lambda x, y: x * y)\n",
    "\n",
    "model = dde.Model(data, net)\n",
    "\n",
    "model.compile(\"adam\", lr=0.001)\n",
    "# movie = dde.callbacks.MovieDumper(\n",
    "#     \"movie_demo_circle\", [0], [1], period=100, save_spectrum=True, y_reference=func\n",
    "# )\n",
    "losshistory, train_state = model.train(epochs=5000)\n",
    "\n",
    "\n"
   ]
  },
  {
   "cell_type": "code",
   "execution_count": 5,
   "id": "886dd166",
   "metadata": {},
   "outputs": [
    {
     "data": {
      "image/png": "[encoded data removed]",
      "text/plain": [
       "<Figure size 720x360 with 2 Axes>"
      ]
     },
     "metadata": {
      "needs_background": "light"
     },
     "output_type": "display_data"
    }
   ],
   "source": [
    "X_train, y_train, X_test, y_test, best_y, best_ystd = train_state.packed_data()\n",
    "z = func(np.linspace(np.pi/2,-np.pi/2))\n",
    "\n",
    "fig, ax = plt.subplots(nrows=1, ncols=2, figsize=(10,5))\n",
    "\n",
    "ax[0].scatter(best_y.T[0], best_y.T[1], label='Predicted')\n",
    "ax[0].scatter(z[0], z[1], label='Solution')\n",
    "ax[0].set_ylabel(\"y\")\n",
    "ax[0].set_xlabel(\"x\")\n",
    "ax[0].legend()\n",
    "\n",
    "loss_train = np.sum(losshistory.loss_train, axis=1)\n",
    "loss_test = np.sum(losshistory.loss_test, axis=1)\n",
    "\n",
    "ax[1].semilogy(losshistory.steps, loss_train, label=\"Train loss\")\n",
    "ax[1].semilogy(losshistory.steps, loss_test, label=\"Test loss\")\n",
    "for i in range(len(losshistory.metrics_test[0])):\n",
    "    ax[1].semilogy(\n",
    "        losshistory.steps,\n",
    "        np.array(losshistory.metrics_test)[:, i],\n",
    "        label=\"Test metric\",\n",
    "    )\n",
    "ax[1].set_ylabel(\"Loss\")\n",
    "ax[1].set_xlabel(\"# Steps\")\n",
    "ax[1].legend()\n",
    "\n",
    "fig.tight_layout()"
   ]
  },
  {
   "cell_type": "code",
   "execution_count": null,
   "id": "f880a4a7",
   "metadata": {},
   "outputs": [],
   "source": []
  }
 ],
 "metadata": {
  "kernelspec": {
   "display_name": "Python 3",
   "language": "python",
   "name": "python3"
  },
  "language_info": {
   "codemirror_mode": {
    "name": "ipython",
    "version": 3
   },
   "file_extension": ".py",
   "mimetype": "text/x-python",
   "name": "python",
   "nbconvert_exporter": "python",
   "pygments_lexer": "ipython3",
   "version": "3.8.3"
  }
 },
 "nbformat": 4,
 "nbformat_minor": 5
}
