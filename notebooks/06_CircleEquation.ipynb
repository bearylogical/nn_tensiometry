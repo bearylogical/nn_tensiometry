{
 "cells": [
  {
   "cell_type": "code",
   "execution_count": 1,
   "id": "8c38fadf",
   "metadata": {},
   "outputs": [
    {
     "name": "stdout",
     "output_type": "stream",
     "text": [
      "Using TensorFlow 2 backend.\n",
      "\n",
      "WARNING:tensorflow:From /home/syamil/anaconda3/lib/python3.8/site-packages/tensorflow/python/compat/v2_compat.py:96: disable_resource_variables (from tensorflow.python.ops.variable_scope) is deprecated and will be removed in a future version.\n",
      "Instructions for updating:\n",
      "non-resource variables are not supported in the long term\n"
     ]
    }
   ],
   "source": [
    "import deepxde as dde\n",
    "from deepxde.backend import tf\n",
    "import numpy as np\n",
    "from deepxde.callbacks import EarlyStopping\n",
    "import matplotlib.pyplot as plt"
   ]
  },
  {
   "cell_type": "markdown",
   "id": "4e7ea62d",
   "metadata": {},
   "source": [
    "## Half Circle Equation\n",
    "\n",
    "Length Domain : $[0, \\pi]$\n",
    "\n",
    "From equation of circle\n",
    "$(x-u)^2+(y-v)^2=a^2$\n",
    "\n",
    "Implicit differentiaion:\n",
    "$x'(x-u)+y'(y-v)=0$\n",
    "\n",
    "IC: $x(0)=u+a, \\quad y(0)=v$\n",
    "\n",
    "PDE: $x'=-y+v, \\quad y' = x-u$"
   ]
  },
  {
   "cell_type": "code",
   "execution_count": 2,
   "id": "5d4e32e7",
   "metadata": {},
   "outputs": [],
   "source": [
    "# constants\n",
    "r = 1\n",
    "eps = 1e-10"
   ]
  },
  {
   "cell_type": "code",
   "execution_count": 13,
   "id": "5af402b9",
   "metadata": {},
   "outputs": [
    {
     "name": "stdout",
     "output_type": "stream",
     "text": [
      "Compiling model...\n",
      "Building feed-forward neural network...\n",
      "'build' took 0.068618 s\n",
      "\n"
     ]
    },
    {
     "name": "stderr",
     "output_type": "stream",
     "text": [
      "/home/syamil/anaconda3/lib/python3.8/site-packages/tensorflow/python/keras/legacy_tf_layers/core.py:171: UserWarning: `tf.layers.dense` is deprecated and will be removed in a future version. Please use `tf.keras.layers.Dense` instead.\n",
      "  warnings.warn('`tf.layers.dense` is deprecated and '\n",
      "/home/syamil/anaconda3/lib/python3.8/site-packages/tensorflow/python/keras/engine/base_layer_v1.py:1719: UserWarning: `layer.apply` is deprecated and will be removed in a future version. Please use `layer.__call__` method instead.\n",
      "  warnings.warn('`layer.apply` is deprecated and '\n"
     ]
    },
    {
     "name": "stdout",
     "output_type": "stream",
     "text": [
      "'compile' took 0.772535 s\n",
      "\n",
      "Initializing variables...\n",
      "Training model...\n",
      "\n",
      "Step      Train loss                                                      Test loss                                                       Test metric\n",
      "0         [4.94e-02, 1.46e-02, 0.00e+00, 1.00e+00, 4.32e-04, 6.42e-01]    [4.94e-02, 1.46e-02, 0.00e+00, 0.00e+00, 0.00e+00, 0.00e+00]    []  \n",
      "1000      [1.96e-03, 4.45e-03, 1.69e-05, 3.74e-06, 8.32e-07, 1.83e-04]    [1.96e-03, 4.45e-03, 0.00e+00, 0.00e+00, 0.00e+00, 0.00e+00]    []  \n",
      "2000      [1.47e-04, 3.32e-04, 1.52e-07, 3.82e-10, 3.71e-05, 1.45e-07]    [1.47e-04, 3.32e-04, 0.00e+00, 0.00e+00, 0.00e+00, 0.00e+00]    []  \n",
      "3000      [4.50e-05, 9.00e-05, 1.39e-11, 8.91e-09, 2.26e-05, 6.03e-06]    [4.50e-05, 9.00e-05, 0.00e+00, 0.00e+00, 0.00e+00, 0.00e+00]    []  \n",
      "4000      [3.39e-05, 3.94e-05, 6.23e-09, 1.05e-08, 9.05e-06, 3.24e-06]    [3.39e-05, 3.94e-05, 0.00e+00, 0.00e+00, 0.00e+00, 0.00e+00]    []  \n",
      "5000      [2.61e-05, 2.34e-05, 2.28e-09, 1.37e-09, 4.93e-06, 1.49e-06]    [2.61e-05, 2.34e-05, 0.00e+00, 0.00e+00, 0.00e+00, 0.00e+00]    []  \n",
      "\n",
      "Best model at step 5000:\n",
      "  train loss: 5.58e-05\n",
      "  test loss: 4.94e-05\n",
      "  test metric: []\n",
      "\n",
      "'train' took 55.100204 s\n",
      "\n"
     ]
    }
   ],
   "source": [
    "def pde(s,y):\n",
    "    \n",
    "    x_s = y[:,0:1] \n",
    "    dx_ds = dde.grad.jacobian(x_s, s)\n",
    "    y_s = y[:,1:2]\n",
    "    dy_ds = dde.grad.jacobian(y_s, s)\n",
    "    \n",
    "    return dx_ds + y_s, dy_ds - x_s\n",
    "\n",
    "geom = dde.geometry.Interval(0, 2*np.pi)\n",
    "\n",
    "def start_bound(x, on_boundary):\n",
    "    return on_boundary and np.isclose(x[0], 0)\n",
    "\n",
    "def end_bound(x, on_boundary):\n",
    "    return on_boundary and np.isclose(x[0], 2*np.pi)\n",
    "\n",
    "def func(s):\n",
    "    return np.cos(s), np.sin(s)\n",
    "\n",
    "x_start = dde.DirichletBC(geom, lambda x: 0, start_bound, component=0)\n",
    "y_start = dde.DirichletBC(geom, lambda x: 1, start_bound, component=1)\n",
    "x_end = dde.DirichletBC(geom, lambda x: 0, end_bound, component=0)\n",
    "y_end = dde.DirichletBC(geom, lambda x: 1, end_bound, component=1)\n",
    "\n",
    "data = dde.data.PDE(\n",
    "    geom,\n",
    "    pde,\n",
    "    [x_start, y_start, x_end, y_end],\n",
    "    num_domain=100,\n",
    "    num_boundary=30,\n",
    "    train_distribution='uniform'\n",
    ")\n",
    "\n",
    "layer_size = [1] + [20] * 3 + [2]\n",
    "activation = \"tanh\"\n",
    "initializer = \"Glorot uniform\"\n",
    "net = dde.maps.FNN(layer_size, activation, initializer)\n",
    "# net.outputs_modify(lambda x, y: x * y)\n",
    "\n",
    "model = dde.Model(data, net)\n",
    "\n",
    "model.compile(\"adam\", lr=0.001)\n",
    "# movie = dde.callbacks.MovieDumper(\n",
    "#     \"movie_demo_circle\", [0], [1], period=100, save_spectrum=True, y_reference=func\n",
    "# )\n",
    "losshistory, train_state = model.train(epochs=5000)\n",
    "\n",
    "\n"
   ]
  },
  {
   "cell_type": "code",
   "execution_count": 14,
   "id": "c7b13026",
   "metadata": {},
   "outputs": [
    {
     "data": {
      "image/png": "[encoded data removed]",
      "text/plain": [
       "<Figure size 720x360 with 2 Axes>"
      ]
     },
     "metadata": {
      "needs_background": "light"
     },
     "output_type": "display_data"
    }
   ],
   "source": [
    "X_train, y_train, X_test, y_test, best_y, best_ystd = train_state.packed_data()\n",
    "s = geom.uniform_points(1000, True)\n",
    "z = func(s)\n",
    "fig, ax = plt.subplots(nrows=1, ncols=2, figsize=(10,5))\n",
    "\n",
    "ax[0].scatter(best_y.T[0], best_y.T[1], label='Predicted')\n",
    "ax[0].scatter(z[0], z[1], label='Solution')\n",
    "ax[0].set_ylabel(\"y\")\n",
    "ax[0].set_xlabel(\"x\")\n",
    "ax[0].legend()\n",
    "\n",
    "loss_train = np.sum(losshistory.loss_train, axis=1)\n",
    "loss_test = np.sum(losshistory.loss_test, axis=1)\n",
    "\n",
    "ax[1].semilogy(losshistory.steps, loss_train, label=\"Train loss\")\n",
    "ax[1].semilogy(losshistory.steps, loss_test, label=\"Test loss\")\n",
    "for i in range(len(losshistory.metrics_test[0])):\n",
    "    ax[1].semilogy(\n",
    "        losshistory.steps,\n",
    "        np.array(losshistory.metrics_test)[:, i],\n",
    "        label=\"Test metric\",\n",
    "    )\n",
    "ax[1].set_ylabel(\"Loss\")\n",
    "ax[1].set_xlabel(\"# Steps\")\n",
    "ax[1].legend()\n",
    "\n",
    "fig.tight_layout()"
   ]
  }
 ],
 "metadata": {
  "kernelspec": {
   "display_name": "Python 3",
   "language": "python",
   "name": "python3"
  },
  "language_info": {
   "codemirror_mode": {
    "name": "ipython",
    "version": 3
   },
   "file_extension": ".py",
   "mimetype": "text/x-python",
   "name": "python",
   "nbconvert_exporter": "python",
   "pygments_lexer": "ipython3",
   "version": "3.8.3"
  }
 },
 "nbformat": 4,
 "nbformat_minor": 5
}
